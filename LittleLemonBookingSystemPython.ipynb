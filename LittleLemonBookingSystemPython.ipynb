{
 "cells": [
  {
   "cell_type": "markdown",
   "metadata": {},
   "source": [
    "## Little Lemon - Booking System - Python app"
   ]
  },
  {
   "cell_type": "markdown",
   "metadata": {},
   "source": [
    "## Module 3 - Add query function - Task 1: \n",
    "Install python / mysql connector. Access to `little_lemon_db` database. Create cursor."
   ]
  },
  {
   "cell_type": "code",
   "execution_count": null,
   "metadata": {},
   "outputs": [
    {
     "name": "stdout",
     "output_type": "stream",
     "text": [
      "Collecting mysql-connector-python\n",
      "  Downloading mysql_connector_python-9.3.0-cp313-cp313-macosx_14_0_x86_64.whl.metadata (7.5 kB)\n",
      "Downloading mysql_connector_python-9.3.0-cp313-cp313-macosx_14_0_x86_64.whl (16.0 MB)\n",
      "\u001b[2K   \u001b[90m━━━━━━━━━━━━━━━━━━━━━━━━━━━━━━━━━━━━━━━━\u001b[0m \u001b[32m16.0/16.0 MB\u001b[0m \u001b[31m4.1 MB/s\u001b[0m eta \u001b[36m0:00:00\u001b[0ma \u001b[36m0:00:01\u001b[0m\n",
      "\u001b[?25hInstalling collected packages: mysql-connector-python\n",
      "Successfully installed mysql-connector-python-9.3.0\n",
      "\n",
      "\u001b[1m[\u001b[0m\u001b[34;49mnotice\u001b[0m\u001b[1;39;49m]\u001b[0m\u001b[39;49m A new release of pip is available: \u001b[0m\u001b[31;49m25.0.1\u001b[0m\u001b[39;49m -> \u001b[0m\u001b[32;49m25.1\u001b[0m\n",
      "\u001b[1m[\u001b[0m\u001b[34;49mnotice\u001b[0m\u001b[1;39;49m]\u001b[0m\u001b[39;49m To update, run: \u001b[0m\u001b[32;49mpip3 install --upgrade pip\u001b[0m\n",
      "Note: you may need to restart the kernel to use updated packages.\n"
     ]
    }
   ],
   "source": [
    "# Install mysql-connector-python\n",
    "%pip install mysql-connector-python"
   ]
  },
  {
   "cell_type": "code",
   "execution_count": 16,
   "metadata": {},
   "outputs": [],
   "source": [
    "# Import mysql.connector\n",
    "import mysql.connector as connector"
   ]
  },
  {
   "cell_type": "code",
   "execution_count": 17,
   "metadata": {},
   "outputs": [],
   "source": [
    "# Establish connection b/w Python and MySQL database via connector API\n",
    "connection = connector.connect(user = \"admin\", password = \"admin\", db = \"little_lemon_db\")"
   ]
  },
  {
   "cell_type": "code",
   "execution_count": 18,
   "metadata": {},
   "outputs": [],
   "source": [
    "# Create a cursor object to communicate with entire MySQL database\n",
    "cursor = connection.cursor()"
   ]
  },
  {
   "cell_type": "code",
   "execution_count": 19,
   "metadata": {},
   "outputs": [
    {
     "data": {
      "text/plain": [
       "'little_lemon_db'"
      ]
     },
     "execution_count": 19,
     "metadata": {},
     "output_type": "execute_result"
    }
   ],
   "source": [
    "# Set the little_lemon database for use \n",
    "cursor.execute(\"USE little_lemon_db\")\n",
    "\n",
    "# Confirm the database in use\n",
    "connection.database"
   ]
  },
  {
   "cell_type": "markdown",
   "metadata": {},
   "source": [
    "## Module 3 - Add query function - Task 2:\n",
    "Query the database to show all tables within the database"
   ]
  },
  {
   "cell_type": "code",
   "execution_count": null,
   "metadata": {},
   "outputs": [
    {
     "name": "stdout",
     "output_type": "stream",
     "text": [
      "[('Bookings',), ('Customers',), ('Delivery',), ('Menus',), ('Orders',), ('ordersview',), ('Staffs',)]\n"
     ]
    }
   ],
   "source": [
    "# SQL query\n",
    "show_tables_query = \"SHOW TABLES\" \n",
    "\n",
    "# Execute query\n",
    "cursor.execute(show_tables_query)\n",
    "\n",
    "# Fetch and print results\n",
    "results = cursor.fetchall()\n",
    "print(results)"
   ]
  },
  {
   "cell_type": "markdown",
   "metadata": {},
   "source": [
    "## Module 3 - Add query function - Task 3:\n",
    "Query the database to full name and contact details for every customer that has placed an order greater than $60 for a promotional campaign"
   ]
  },
  {
   "cell_type": "code",
   "execution_count": 21,
   "metadata": {},
   "outputs": [
    {
     "name": "stdout",
     "output_type": "stream",
     "text": [
      "('FullName', 'Email', 'OrderID', 'TotalCost')\n",
      "['Diana Pinto', 'dpinto@chef.net', 1, '100.50']\n",
      "['Marcos Romero', 'mr@company.com', 2, '200.00']\n",
      "['Hiroki Yamane', 'hiroki@yamane', 3, '60.90']\n",
      "['Joakim Iversen', 'xyz@a.com', 4, '900.50']\n",
      "['Marcos Romero', 'mr@company.com', 6, '100.50']\n",
      "['Joakim Iversen', 'xyz@a.com', 7, '200.00']\n",
      "['Anna Iversen', 'abc@gmail.com', 8, '60.90']\n",
      "['Hiroki Yamane', 'hiroki@yamane', 9, '900.50']\n",
      "['Vanessa McCarthy', 'hello@me.com', 10, '805.00']\n"
     ]
    }
   ],
   "source": [
    "# SQL query\n",
    "stmt = \"\"\"\n",
    "SELECT cm.FullName, cm.Email, od.OrderID, od.TotalCost\n",
    "FROM Customers AS cm INNER JOIN Orders AS od ON cm.CustomerID = od.CustomerID\n",
    "WHERE od.TotalCost > 60;\n",
    "\"\"\"\n",
    "\n",
    "# Execute query\n",
    "cursor.execute(stmt)\n",
    "\n",
    "# Fetch and print results\n",
    "cols = cursor.column_names\n",
    "results = cursor.fetchall()\n",
    "\n",
    "# Convert tuple to list to change type\n",
    "results_list = list(results)\n",
    "\n",
    "print(cols)\n",
    "for result in results_list:\n",
    "    result_list = list(result)\n",
    "    result_list[3] = str(result_list[3])\n",
    "    print(result_list)"
   ]
  },
  {
   "cell_type": "code",
   "execution_count": 14,
   "metadata": {},
   "outputs": [
    {
     "name": "stdout",
     "output_type": "stream",
     "text": [
      "<class 'tuple'>\n"
     ]
    }
   ],
   "source": [
    "print(type(results[0]))"
   ]
  }
 ],
 "metadata": {
  "kernelspec": {
   "display_name": "Python 3",
   "language": "python",
   "name": "python3"
  },
  "language_info": {
   "codemirror_mode": {
    "name": "ipython",
    "version": 3
   },
   "file_extension": ".py",
   "mimetype": "text/x-python",
   "name": "python",
   "nbconvert_exporter": "python",
   "pygments_lexer": "ipython3",
   "version": "3.13.3"
  }
 },
 "nbformat": 4,
 "nbformat_minor": 2
}
